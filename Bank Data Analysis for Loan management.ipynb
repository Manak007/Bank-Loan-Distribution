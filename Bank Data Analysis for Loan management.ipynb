{
 "cells": [
  {
   "cell_type": "code",
   "execution_count": 3,
   "id": "ba2f737e",
   "metadata": {},
   "outputs": [],
   "source": [
    "import numpy as np\n",
    "import pandas as pd"
   ]
  },
  {
   "cell_type": "code",
   "execution_count": 13,
   "id": "bb54a56d",
   "metadata": {},
   "outputs": [],
   "source": [
    "#Data creation\n",
    "\n",
    "\n",
    "num_records=1000\n",
    "\n",
    "applicant_names=['Applicant_'+str(i) for i in range(num_records)]\n",
    "loan_amount=np.random.randint(5000,50000,num_records)\n",
    "loan_terms=np.random.randint(12,72,num_records)\n",
    "credit_scores=np.random.randint(300,850,num_records)\n",
    "employment_types=np.random.choice(['Salried','Self-employed'],num_records)\n",
    "loan_approval_status=np.random.choice([0,1],num_records,p=[0.3,0.7])\n",
    "disbursed_amounts=np.where([loan_approval_status]==1,loan_amount,0)"
   ]
  },
  {
   "cell_type": "code",
   "execution_count": 5,
   "id": "9bdcf731",
   "metadata": {},
   "outputs": [],
   "source": [
    "# DataFrame creation\n",
    "\n",
    "loan_data = pd.DataFrame({\n",
    "    'Applicant Name':applicant_names,\n",
    "    'Loan Amount':loan_amount,\n",
    "    'Loan_term_months':loan_terms,\n",
    "    'Credit_Score':credit_scores,\n",
    "    'Employment_type':employment_types,\n",
    "    'Disbursed_Amount':loan_amount,\n",
    "    'Loan_approval_Status':loan_approval_status\n",
    "    \n",
    "})"
   ]
  },
  {
   "cell_type": "code",
   "execution_count": 6,
   "id": "ee37105c",
   "metadata": {},
   "outputs": [
    {
     "data": {
      "text/html": [
       "<div>\n",
       "<style scoped>\n",
       "    .dataframe tbody tr th:only-of-type {\n",
       "        vertical-align: middle;\n",
       "    }\n",
       "\n",
       "    .dataframe tbody tr th {\n",
       "        vertical-align: top;\n",
       "    }\n",
       "\n",
       "    .dataframe thead th {\n",
       "        text-align: right;\n",
       "    }\n",
       "</style>\n",
       "<table border=\"1\" class=\"dataframe\">\n",
       "  <thead>\n",
       "    <tr style=\"text-align: right;\">\n",
       "      <th></th>\n",
       "      <th>Applicant Name</th>\n",
       "      <th>Loan Amount</th>\n",
       "      <th>Loan_term_months</th>\n",
       "      <th>Credit_Score</th>\n",
       "      <th>Employment_type</th>\n",
       "      <th>Disbursed_Amount</th>\n",
       "      <th>Loan_approval_Status</th>\n",
       "    </tr>\n",
       "  </thead>\n",
       "  <tbody>\n",
       "    <tr>\n",
       "      <th>0</th>\n",
       "      <td>Applicant_0</td>\n",
       "      <td>17991</td>\n",
       "      <td>60</td>\n",
       "      <td>787</td>\n",
       "      <td>Salried</td>\n",
       "      <td>17991</td>\n",
       "      <td>1</td>\n",
       "    </tr>\n",
       "    <tr>\n",
       "      <th>1</th>\n",
       "      <td>Applicant_1</td>\n",
       "      <td>20635</td>\n",
       "      <td>21</td>\n",
       "      <td>568</td>\n",
       "      <td>Salried</td>\n",
       "      <td>20635</td>\n",
       "      <td>1</td>\n",
       "    </tr>\n",
       "    <tr>\n",
       "      <th>2</th>\n",
       "      <td>Applicant_2</td>\n",
       "      <td>49617</td>\n",
       "      <td>39</td>\n",
       "      <td>764</td>\n",
       "      <td>Salried</td>\n",
       "      <td>49617</td>\n",
       "      <td>1</td>\n",
       "    </tr>\n",
       "    <tr>\n",
       "      <th>3</th>\n",
       "      <td>Applicant_3</td>\n",
       "      <td>34810</td>\n",
       "      <td>34</td>\n",
       "      <td>575</td>\n",
       "      <td>Salried</td>\n",
       "      <td>34810</td>\n",
       "      <td>0</td>\n",
       "    </tr>\n",
       "    <tr>\n",
       "      <th>4</th>\n",
       "      <td>Applicant_4</td>\n",
       "      <td>19183</td>\n",
       "      <td>69</td>\n",
       "      <td>641</td>\n",
       "      <td>Salried</td>\n",
       "      <td>19183</td>\n",
       "      <td>0</td>\n",
       "    </tr>\n",
       "    <tr>\n",
       "      <th>5</th>\n",
       "      <td>Applicant_5</td>\n",
       "      <td>16223</td>\n",
       "      <td>19</td>\n",
       "      <td>690</td>\n",
       "      <td>Self-employed</td>\n",
       "      <td>16223</td>\n",
       "      <td>0</td>\n",
       "    </tr>\n",
       "    <tr>\n",
       "      <th>6</th>\n",
       "      <td>Applicant_6</td>\n",
       "      <td>37022</td>\n",
       "      <td>45</td>\n",
       "      <td>331</td>\n",
       "      <td>Self-employed</td>\n",
       "      <td>37022</td>\n",
       "      <td>1</td>\n",
       "    </tr>\n",
       "    <tr>\n",
       "      <th>7</th>\n",
       "      <td>Applicant_7</td>\n",
       "      <td>22714</td>\n",
       "      <td>56</td>\n",
       "      <td>768</td>\n",
       "      <td>Self-employed</td>\n",
       "      <td>22714</td>\n",
       "      <td>1</td>\n",
       "    </tr>\n",
       "    <tr>\n",
       "      <th>8</th>\n",
       "      <td>Applicant_8</td>\n",
       "      <td>17925</td>\n",
       "      <td>67</td>\n",
       "      <td>559</td>\n",
       "      <td>Salried</td>\n",
       "      <td>17925</td>\n",
       "      <td>1</td>\n",
       "    </tr>\n",
       "    <tr>\n",
       "      <th>9</th>\n",
       "      <td>Applicant_9</td>\n",
       "      <td>33328</td>\n",
       "      <td>16</td>\n",
       "      <td>320</td>\n",
       "      <td>Salried</td>\n",
       "      <td>33328</td>\n",
       "      <td>1</td>\n",
       "    </tr>\n",
       "  </tbody>\n",
       "</table>\n",
       "</div>"
      ],
      "text/plain": [
       "  Applicant Name  Loan Amount  Loan_term_months  Credit_Score Employment_type  \\\n",
       "0    Applicant_0        17991                60           787         Salried   \n",
       "1    Applicant_1        20635                21           568         Salried   \n",
       "2    Applicant_2        49617                39           764         Salried   \n",
       "3    Applicant_3        34810                34           575         Salried   \n",
       "4    Applicant_4        19183                69           641         Salried   \n",
       "5    Applicant_5        16223                19           690   Self-employed   \n",
       "6    Applicant_6        37022                45           331   Self-employed   \n",
       "7    Applicant_7        22714                56           768   Self-employed   \n",
       "8    Applicant_8        17925                67           559         Salried   \n",
       "9    Applicant_9        33328                16           320         Salried   \n",
       "\n",
       "   Disbursed_Amount  Loan_approval_Status  \n",
       "0             17991                     1  \n",
       "1             20635                     1  \n",
       "2             49617                     1  \n",
       "3             34810                     0  \n",
       "4             19183                     0  \n",
       "5             16223                     0  \n",
       "6             37022                     1  \n",
       "7             22714                     1  \n",
       "8             17925                     1  \n",
       "9             33328                     1  "
      ]
     },
     "execution_count": 6,
     "metadata": {},
     "output_type": "execute_result"
    }
   ],
   "source": [
    "loan_data.head(10)"
   ]
  },
  {
   "cell_type": "markdown",
   "id": "ff97bc65",
   "metadata": {},
   "source": [
    "## How many loan applications were approved"
   ]
  },
  {
   "cell_type": "code",
   "execution_count": 7,
   "id": "9149124c",
   "metadata": {},
   "outputs": [
    {
     "name": "stdout",
     "output_type": "stream",
     "text": [
      "706\n"
     ]
    }
   ],
   "source": [
    "approved_applications=loan_data['Loan_approval_Status'].sum()\n",
    "print(approved_applications)"
   ]
  },
  {
   "cell_type": "markdown",
   "id": "3b2024f0",
   "metadata": {},
   "source": [
    "## Average loan amount requested by applicant"
   ]
  },
  {
   "cell_type": "code",
   "execution_count": 8,
   "id": "1da80cce",
   "metadata": {},
   "outputs": [
    {
     "name": "stdout",
     "output_type": "stream",
     "text": [
      "27966.439\n"
     ]
    }
   ],
   "source": [
    "avg_loan_amount_req=loan_data['Loan Amount'].mean()\n",
    "print(avg_loan_amount_req)"
   ]
  },
  {
   "cell_type": "markdown",
   "id": "a8351710",
   "metadata": {},
   "source": [
    "## No.of salaried and self employed people"
   ]
  },
  {
   "cell_type": "code",
   "execution_count": 9,
   "id": "1ba92edb",
   "metadata": {},
   "outputs": [
    {
     "name": "stdout",
     "output_type": "stream",
     "text": [
      "Salried          518\n",
      "Self-employed    482\n",
      "Name: Employment_type, dtype: int64\n"
     ]
    }
   ],
   "source": [
    "employment_count=loan_data['Employment_type'].value_counts()\n",
    "print(employment_count)"
   ]
  },
  {
   "cell_type": "markdown",
   "id": "9a999fd7",
   "metadata": {},
   "source": [
    "## Applicant with highest credit score"
   ]
  },
  {
   "cell_type": "code",
   "execution_count": 10,
   "id": "a3b27075",
   "metadata": {},
   "outputs": [
    {
     "name": "stdout",
     "output_type": "stream",
     "text": [
      "Applicant with the highest credit score: Applicant_180\n"
     ]
    }
   ],
   "source": [
    "applicant_with_highest_credit_score = loan_data.loc[loan_data['Credit_Score'].idxmax(), 'Applicant Name']\n",
    "print(\"Applicant with the highest credit score:\", applicant_with_highest_credit_score)"
   ]
  },
  {
   "cell_type": "markdown",
   "id": "344f0535",
   "metadata": {},
   "source": [
    "## Disbursed Amount for each Loan Term"
   ]
  },
  {
   "cell_type": "code",
   "execution_count": 11,
   "id": "a51e6e6e",
   "metadata": {},
   "outputs": [
    {
     "name": "stdout",
     "output_type": "stream",
     "text": [
      "Total Disbursed amount by loan term:\n",
      " Loan_term_months\n",
      "12    419915\n",
      "13    484342\n",
      "14    711159\n",
      "15    508515\n",
      "16    514668\n",
      "17    574288\n",
      "18    555377\n",
      "19    490757\n",
      "20    601914\n",
      "21    572399\n",
      "22    369523\n",
      "23    333435\n",
      "24    273605\n",
      "25    619368\n",
      "26    655705\n",
      "27    490236\n",
      "28    443319\n",
      "29    691418\n",
      "30    333349\n",
      "31    320754\n",
      "32    284295\n",
      "33    365552\n",
      "34    384848\n",
      "35    500676\n",
      "36    325795\n",
      "37    396366\n",
      "38    408420\n",
      "39    551101\n",
      "40    608184\n",
      "41    482046\n",
      "42    879979\n",
      "43    435309\n",
      "44    647513\n",
      "45    332188\n",
      "46    397724\n",
      "47    421725\n",
      "48    507397\n",
      "49    585392\n",
      "50    289236\n",
      "51    366667\n",
      "52    638700\n",
      "53    470079\n",
      "54    465519\n",
      "55    227331\n",
      "56    646247\n",
      "57    557894\n",
      "58    381432\n",
      "59    407252\n",
      "60    489251\n",
      "61    332789\n",
      "62    279082\n",
      "63    512664\n",
      "64    472822\n",
      "65    215948\n",
      "66    541948\n",
      "67    420249\n",
      "68    456187\n",
      "69    383416\n",
      "70    424601\n",
      "71    508569\n",
      "Name: Disbursed_Amount, dtype: int32\n"
     ]
    }
   ],
   "source": [
    "disbursed_amount_by_term = loan_data.groupby('Loan_term_months')['Disbursed_Amount'].sum()\n",
    "print(\"Total Disbursed amount by loan term:\\n\",disbursed_amount_by_term)"
   ]
  },
  {
   "cell_type": "markdown",
   "id": "f7e626af",
   "metadata": {},
   "source": [
    "## Average Credit Score for approved Loans"
   ]
  },
  {
   "cell_type": "code",
   "execution_count": 14,
   "id": "0b7e4773",
   "metadata": {},
   "outputs": [
    {
     "name": "stdout",
     "output_type": "stream",
     "text": [
      "Average credit score for approved loans: 577.57223796034\n"
     ]
    }
   ],
   "source": [
    "avg_credit_score_approved_loans = loan_data[loan_data['Loan_approval_Status'] == 1]['Credit_Score'].mean()\n",
    "print(\"Average credit score for approved loans:\", avg_credit_score_approved_loans)"
   ]
  },
  {
   "cell_type": "markdown",
   "id": "08c7aafe",
   "metadata": {},
   "source": [
    "## Top 5 applicants with highest Loan amount"
   ]
  },
  {
   "cell_type": "code",
   "execution_count": 17,
   "id": "b350fa7e",
   "metadata": {},
   "outputs": [
    {
     "name": "stdout",
     "output_type": "stream",
     "text": [
      "Top 5 applicants with the highest loan amounts:\n",
      "     Applicant Name  Loan Amount\n",
      "275  Applicant_275        49964\n",
      "124  Applicant_124        49900\n",
      "65    Applicant_65        49856\n",
      "719  Applicant_719        49838\n",
      "700  Applicant_700        49833\n"
     ]
    }
   ],
   "source": [
    "top_5_applicants_highest_loan_amounts = loan_data.nlargest(5, 'Loan Amount')[['Applicant Name', 'Loan Amount']]\n",
    "print(\"Top 5 applicants with the highest loan amounts:\\n\", top_5_applicants_highest_loan_amounts)"
   ]
  },
  {
   "cell_type": "markdown",
   "id": "98bd0805",
   "metadata": {},
   "source": [
    "## Total Disbursed Amount for each employment type"
   ]
  },
  {
   "cell_type": "code",
   "execution_count": 19,
   "id": "6639f5b0",
   "metadata": {},
   "outputs": [
    {
     "name": "stdout",
     "output_type": "stream",
     "text": [
      "Total disbursed amount by employment type:\n",
      " Employment_type\n",
      "Salried          14467086\n",
      "Self-employed    13499353\n",
      "Name: Disbursed_Amount, dtype: int32\n"
     ]
    }
   ],
   "source": [
    "disbursed_amount_by_employment = loan_data.groupby('Employment_type')['Disbursed_Amount'].sum()\n",
    "print(\"Total disbursed amount by employment type:\\n\", disbursed_amount_by_employment)"
   ]
  },
  {
   "cell_type": "markdown",
   "id": "0565b25e",
   "metadata": {},
   "source": [
    "## Average Loan to income ratio for approved loans"
   ]
  },
  {
   "cell_type": "code",
   "execution_count": 23,
   "id": "568c7063",
   "metadata": {},
   "outputs": [
    {
     "data": {
      "text/html": [
       "<div>\n",
       "<style scoped>\n",
       "    .dataframe tbody tr th:only-of-type {\n",
       "        vertical-align: middle;\n",
       "    }\n",
       "\n",
       "    .dataframe tbody tr th {\n",
       "        vertical-align: top;\n",
       "    }\n",
       "\n",
       "    .dataframe thead th {\n",
       "        text-align: right;\n",
       "    }\n",
       "</style>\n",
       "<table border=\"1\" class=\"dataframe\">\n",
       "  <thead>\n",
       "    <tr style=\"text-align: right;\">\n",
       "      <th></th>\n",
       "      <th>Applicant Name</th>\n",
       "      <th>Loan Amount</th>\n",
       "      <th>Loan_term_months</th>\n",
       "      <th>Credit_Score</th>\n",
       "      <th>Employment_type</th>\n",
       "      <th>Disbursed_Amount</th>\n",
       "      <th>Loan_approval_Status</th>\n",
       "      <th>Monthly_Income</th>\n",
       "      <th>Loan_to_Income_Ratio</th>\n",
       "    </tr>\n",
       "  </thead>\n",
       "  <tbody>\n",
       "    <tr>\n",
       "      <th>0</th>\n",
       "      <td>Applicant_0</td>\n",
       "      <td>17991</td>\n",
       "      <td>60</td>\n",
       "      <td>787</td>\n",
       "      <td>Salried</td>\n",
       "      <td>17991</td>\n",
       "      <td>1</td>\n",
       "      <td>7570</td>\n",
       "      <td>2.376618</td>\n",
       "    </tr>\n",
       "    <tr>\n",
       "      <th>1</th>\n",
       "      <td>Applicant_1</td>\n",
       "      <td>20635</td>\n",
       "      <td>21</td>\n",
       "      <td>568</td>\n",
       "      <td>Salried</td>\n",
       "      <td>20635</td>\n",
       "      <td>1</td>\n",
       "      <td>7387</td>\n",
       "      <td>2.793421</td>\n",
       "    </tr>\n",
       "    <tr>\n",
       "      <th>2</th>\n",
       "      <td>Applicant_2</td>\n",
       "      <td>49617</td>\n",
       "      <td>39</td>\n",
       "      <td>764</td>\n",
       "      <td>Salried</td>\n",
       "      <td>49617</td>\n",
       "      <td>1</td>\n",
       "      <td>2297</td>\n",
       "      <td>21.600784</td>\n",
       "    </tr>\n",
       "    <tr>\n",
       "      <th>3</th>\n",
       "      <td>Applicant_3</td>\n",
       "      <td>34810</td>\n",
       "      <td>34</td>\n",
       "      <td>575</td>\n",
       "      <td>Salried</td>\n",
       "      <td>34810</td>\n",
       "      <td>0</td>\n",
       "      <td>6462</td>\n",
       "      <td>5.386877</td>\n",
       "    </tr>\n",
       "    <tr>\n",
       "      <th>4</th>\n",
       "      <td>Applicant_4</td>\n",
       "      <td>19183</td>\n",
       "      <td>69</td>\n",
       "      <td>641</td>\n",
       "      <td>Salried</td>\n",
       "      <td>19183</td>\n",
       "      <td>0</td>\n",
       "      <td>2695</td>\n",
       "      <td>7.117996</td>\n",
       "    </tr>\n",
       "  </tbody>\n",
       "</table>\n",
       "</div>"
      ],
      "text/plain": [
       "  Applicant Name  Loan Amount  Loan_term_months  Credit_Score Employment_type  \\\n",
       "0    Applicant_0        17991                60           787         Salried   \n",
       "1    Applicant_1        20635                21           568         Salried   \n",
       "2    Applicant_2        49617                39           764         Salried   \n",
       "3    Applicant_3        34810                34           575         Salried   \n",
       "4    Applicant_4        19183                69           641         Salried   \n",
       "\n",
       "   Disbursed_Amount  Loan_approval_Status  Monthly_Income  \\\n",
       "0             17991                     1            7570   \n",
       "1             20635                     1            7387   \n",
       "2             49617                     1            2297   \n",
       "3             34810                     0            6462   \n",
       "4             19183                     0            2695   \n",
       "\n",
       "   Loan_to_Income_Ratio  \n",
       "0              2.376618  \n",
       "1              2.793421  \n",
       "2             21.600784  \n",
       "3              5.386877  \n",
       "4              7.117996  "
      ]
     },
     "execution_count": 23,
     "metadata": {},
     "output_type": "execute_result"
    }
   ],
   "source": [
    "# Generate random monthly income for each applicant\n",
    "loan_data['Monthly_Income'] = np.random.randint(2000, 10000, num_records)\n",
    "\n",
    "# Calculate Loan to Income Ratio\n",
    "loan_data['Loan_to_Income_Ratio'] = loan_data['Loan Amount'] / loan_data['Monthly_Income']\n",
    "\n",
    "loan_data.head()\n",
    "\n"
   ]
  },
  {
   "cell_type": "code",
   "execution_count": 24,
   "id": "325e6643",
   "metadata": {},
   "outputs": [
    {
     "name": "stdout",
     "output_type": "stream",
     "text": [
      "Average Loan to Income Ratio for approved loans: 5.609675722238982\n"
     ]
    }
   ],
   "source": [
    "avg_loan_to_income_ratio_approved = loan_data[loan_data['Loan_approval_Status'] == 1]['Loan_to_Income_Ratio'].mean()\n",
    "print(\"Average Loan to Income Ratio for approved loans:\", avg_loan_to_income_ratio_approved)"
   ]
  },
  {
   "cell_type": "code",
   "execution_count": null,
   "id": "88e378f5",
   "metadata": {},
   "outputs": [],
   "source": []
  }
 ],
 "metadata": {
  "kernelspec": {
   "display_name": "Python 3 (ipykernel)",
   "language": "python",
   "name": "python3"
  },
  "language_info": {
   "codemirror_mode": {
    "name": "ipython",
    "version": 3
   },
   "file_extension": ".py",
   "mimetype": "text/x-python",
   "name": "python",
   "nbconvert_exporter": "python",
   "pygments_lexer": "ipython3",
   "version": "3.10.9"
  }
 },
 "nbformat": 4,
 "nbformat_minor": 5
}
