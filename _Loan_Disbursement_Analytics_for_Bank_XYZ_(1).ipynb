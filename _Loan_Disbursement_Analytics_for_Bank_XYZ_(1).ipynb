{
  "cells": [
    {
      "cell_type": "raw",
      "id": "91047c99",
      "metadata": {
        "id": "91047c99"
      },
      "source": [
        "XYZ Bank is a leading financial institution known for its innovative loan products and excellent customer service. The bank wants to enhance its loan disbursement process by leveraging financial analytics. As part of the hiring process for a Business Analyst role, they have created a case study that involves analyzing a dataset related to loan disbursement."
      ]
    },
    {
      "cell_type": "code",
      "execution_count": null,
      "id": "7df57617",
      "metadata": {
        "id": "7df57617",
        "outputId": "faf46a53-d7ce-4efd-b969-c2e441f93c84"
      },
      "outputs": [
        {
          "name": "stdout",
          "output_type": "stream",
          "text": [
            "range(0, 1000)\n"
          ]
        }
      ],
      "source": [
        "print(range(1000))"
      ]
    },
    {
      "cell_type": "code",
      "execution_count": null,
      "id": "701cb81f",
      "metadata": {
        "id": "701cb81f"
      },
      "outputs": [],
      "source": [
        "import numpy as np\n",
        "import pandas as pd\n",
        "\n",
        "\n",
        "\n",
        "# Create synthetic data for the loan disbursement case study\n",
        "num_records = 1000\n",
        "\n",
        "# Generate random loan applicant details\n",
        "applicant_names = ['Applicant_' + str(i) for i in range(num_records)] #range(0,1000) ..1000 records\n",
        "loan_amounts = np.random.randint(5000, 50000, num_records)\n",
        "loan_terms = np.random.randint(12, 72, num_records)\n",
        "credit_scores = np.random.randint(300, 850, num_records)\n",
        "employment_types = np.random.choice(['Salaried', 'Self-employed'], num_records)\n",
        "\n",
        "# Simulate loan approval status\n",
        "loan_approval_status = np.random.choice([0, 1], num_records, p=[0.3, 0.7])\n",
        "\n",
        "# Generate random loan disbursed amounts\n",
        "disbursed_amounts = np.where(loan_approval_status == 1, loan_amounts, 0)\n",
        "\n",
        "# Create DataFrame from the generated data\n",
        "loan_data = pd.DataFrame(\n",
        "    {\n",
        "    'Applicant_Name': applicant_names,\n",
        "    'Loan_Amount': loan_amounts,\n",
        "    'Loan_Term_Months': loan_terms,\n",
        "    'Credit_Score': credit_scores,\n",
        "    'Employment_Type': emp_approval_status,\n",
        "    'Disbursed_Amount': ,loan_amounts\n",
        "    'Loan_Approval_Status': loan_approval_status\n",
        "}\n",
        ")\n"
      ]
    },
    {
      "cell_type": "code",
      "execution_count": null,
      "id": "e15483a1",
      "metadata": {
        "id": "e15483a1",
        "outputId": "105c5968-bbc8-4ec5-9ff2-f1395b3c327a"
      },
      "outputs": [
        {
          "data": {
            "text/html": [
              "<div>\n",
              "<style scoped>\n",
              "    .dataframe tbody tr th:only-of-type {\n",
              "        vertical-align: middle;\n",
              "    }\n",
              "\n",
              "    .dataframe tbody tr th {\n",
              "        vertical-align: top;\n",
              "    }\n",
              "\n",
              "    .dataframe thead th {\n",
              "        text-align: right;\n",
              "    }\n",
              "</style>\n",
              "<table border=\"1\" class=\"dataframe\">\n",
              "  <thead>\n",
              "    <tr style=\"text-align: right;\">\n",
              "      <th></th>\n",
              "      <th>Applicant_Name</th>\n",
              "      <th>Loan_Amount</th>\n",
              "      <th>Loan_Term_Months</th>\n",
              "      <th>Credit_Score</th>\n",
              "      <th>Employment_Type</th>\n",
              "      <th>Loan_Approval_Status</th>\n",
              "      <th>Disbursed_Amount</th>\n",
              "    </tr>\n",
              "  </thead>\n",
              "  <tbody>\n",
              "    <tr>\n",
              "      <th>0</th>\n",
              "      <td>Applicant_0</td>\n",
              "      <td>20795</td>\n",
              "      <td>48</td>\n",
              "      <td>800</td>\n",
              "      <td>Salaried</td>\n",
              "      <td>1</td>\n",
              "      <td>20795</td>\n",
              "    </tr>\n",
              "    <tr>\n",
              "      <th>1</th>\n",
              "      <td>Applicant_1</td>\n",
              "      <td>5860</td>\n",
              "      <td>16</td>\n",
              "      <td>416</td>\n",
              "      <td>Salaried</td>\n",
              "      <td>1</td>\n",
              "      <td>5860</td>\n",
              "    </tr>\n",
              "    <tr>\n",
              "      <th>2</th>\n",
              "      <td>Applicant_2</td>\n",
              "      <td>43158</td>\n",
              "      <td>30</td>\n",
              "      <td>685</td>\n",
              "      <td>Salaried</td>\n",
              "      <td>1</td>\n",
              "      <td>43158</td>\n",
              "    </tr>\n",
              "    <tr>\n",
              "      <th>3</th>\n",
              "      <td>Applicant_3</td>\n",
              "      <td>49732</td>\n",
              "      <td>70</td>\n",
              "      <td>643</td>\n",
              "      <td>Salaried</td>\n",
              "      <td>0</td>\n",
              "      <td>0</td>\n",
              "    </tr>\n",
              "    <tr>\n",
              "      <th>4</th>\n",
              "      <td>Applicant_4</td>\n",
              "      <td>16284</td>\n",
              "      <td>25</td>\n",
              "      <td>694</td>\n",
              "      <td>Self-employed</td>\n",
              "      <td>1</td>\n",
              "      <td>16284</td>\n",
              "    </tr>\n",
              "  </tbody>\n",
              "</table>\n",
              "</div>"
            ],
            "text/plain": [
              "  Applicant_Name  Loan_Amount  Loan_Term_Months  Credit_Score Employment_Type  \\\n",
              "0    Applicant_0        20795                48           800        Salaried   \n",
              "1    Applicant_1         5860                16           416        Salaried   \n",
              "2    Applicant_2        43158                30           685        Salaried   \n",
              "3    Applicant_3        49732                70           643        Salaried   \n",
              "4    Applicant_4        16284                25           694   Self-employed   \n",
              "\n",
              "   Loan_Approval_Status  Disbursed_Amount  \n",
              "0                     1             20795  \n",
              "1                     1              5860  \n",
              "2                     1             43158  \n",
              "3                     0                 0  \n",
              "4                     1             16284  "
            ]
          },
          "execution_count": 3,
          "metadata": {},
          "output_type": "execute_result"
        }
      ],
      "source": [
        "loan_data.head()"
      ]
    },
    {
      "cell_type": "markdown",
      "id": "207fbca8",
      "metadata": {
        "id": "207fbca8"
      },
      "source": [
        "### How many loan applications were approved?"
      ]
    },
    {
      "cell_type": "code",
      "execution_count": null,
      "id": "b1e5d2a4",
      "metadata": {
        "id": "b1e5d2a4",
        "outputId": "bb4a6f15-da9f-4809-b64f-191a34e32014"
      },
      "outputs": [
        {
          "name": "stdout",
          "output_type": "stream",
          "text": [
            "Number of approved loans: 743\n"
          ]
        }
      ],
      "source": [
        "num_approved_loans = loan_data['Loan_Approval_Status'].sum()\n",
        "print(\"Number of approved loans:\", num_approved_loans)\n"
      ]
    },
    {
      "cell_type": "markdown",
      "id": "140baeb8",
      "metadata": {
        "id": "140baeb8"
      },
      "source": [
        "### What is the average loan amount requested by applicants?"
      ]
    },
    {
      "cell_type": "code",
      "execution_count": null,
      "id": "b2c00a43",
      "metadata": {
        "id": "b2c00a43",
        "outputId": "fd814dda-09b2-4942-a4e6-c0647f8043bb"
      },
      "outputs": [
        {
          "name": "stdout",
          "output_type": "stream",
          "text": [
            "Average loan amount requested: 26921.683\n"
          ]
        }
      ],
      "source": [
        "avg_loan_amount = loan_data['Loan_Amount'].mean()\n",
        "print(\"Average loan amount requested:\", avg_loan_amount)\n"
      ]
    },
    {
      "cell_type": "markdown",
      "id": "76b172f1",
      "metadata": {
        "id": "76b172f1"
      },
      "source": [
        "### What is the average disbursed amount for approved loans?"
      ]
    },
    {
      "cell_type": "code",
      "execution_count": null,
      "id": "fec788a4",
      "metadata": {
        "id": "fec788a4",
        "outputId": "3724c768-3f83-4830-c526-9493d1901d4c"
      },
      "outputs": [
        {
          "name": "stdout",
          "output_type": "stream",
          "text": [
            "Average disbursed amount for approved loans: 26910.58411843876\n"
          ]
        }
      ],
      "source": [
        "avg_disbursed_amount = loan_data[loan_data['Loan_Approval_Status'] == 1]['Disbursed_Amount'].mean()\n",
        "print(\"Average disbursed amount for approved loans:\", avg_disbursed_amount)\n"
      ]
    },
    {
      "cell_type": "markdown",
      "id": "26fb5ed7",
      "metadata": {
        "id": "26fb5ed7"
      },
      "source": [
        "### How many applicants are salaried and how many are self-employed?"
      ]
    },
    {
      "cell_type": "code",
      "execution_count": null,
      "id": "57031041",
      "metadata": {
        "id": "57031041",
        "outputId": "dfe5dd05-9644-4f84-8e84-98f994162df4"
      },
      "outputs": [
        {
          "name": "stdout",
          "output_type": "stream",
          "text": [
            "Employment type counts:\n",
            " Salaried         526\n",
            "Self-employed    474\n",
            "Name: Employment_Type, dtype: int64\n"
          ]
        }
      ],
      "source": [
        "employment_counts = loan_data['Employment_Type'].value_counts()\n",
        "print(\"Employment type counts:\\n\", employment_counts)\n"
      ]
    },
    {
      "cell_type": "markdown",
      "id": "fa4bd0a9",
      "metadata": {
        "id": "fa4bd0a9"
      },
      "source": [
        "### Calculate the percentage of approved loans for salaried applicants."
      ]
    },
    {
      "cell_type": "code",
      "execution_count": null,
      "id": "7859a425",
      "metadata": {
        "id": "7859a425",
        "outputId": "887777db-4d19-49ab-99a6-95e984dc3e14"
      },
      "outputs": [
        {
          "name": "stdout",
          "output_type": "stream",
          "text": [
            "Percentage of approved loans for salaried applicants: 72.6235741444867\n"
          ]
        }
      ],
      "source": [
        "salaried_approved_percentage = (loan_data[(loan_data['Employment_Type'] == 'Salaried') &\n",
        "                                         (loan_data['Loan_Approval_Status'] == 1)].shape[0] /\n",
        "                               loan_data[loan_data['Employment_Type'] == 'Salaried'].shape[0]) * 100\n",
        "\n",
        "print(\"Percentage of approved loans for salaried applicants:\", salaried_approved_percentage)\n"
      ]
    },
    {
      "cell_type": "markdown",
      "id": "f6045b0b",
      "metadata": {
        "id": "f6045b0b"
      },
      "source": [
        "### Identify the applicant with the highest credit score."
      ]
    },
    {
      "cell_type": "code",
      "execution_count": null,
      "id": "4bab1d80",
      "metadata": {
        "id": "4bab1d80",
        "outputId": "515198b4-8aa8-4d97-bdc2-153231ae21a3"
      },
      "outputs": [
        {
          "name": "stdout",
          "output_type": "stream",
          "text": [
            "Applicant with the highest credit score: Applicant_403\n"
          ]
        }
      ],
      "source": [
        "applicant_with_highest_credit_score = loan_data.loc[loan_data['Credit_Score'].idxmax(), 'Applicant_Name']\n",
        "print(\"Applicant with the highest credit score:\", applicant_with_highest_credit_score)\n"
      ]
    },
    {
      "cell_type": "markdown",
      "id": "ad067bfa",
      "metadata": {
        "id": "ad067bfa"
      },
      "source": [
        "### Calculate the total disbursed amount for each loan term."
      ]
    },
    {
      "cell_type": "code",
      "execution_count": null,
      "id": "3b68b5ac",
      "metadata": {
        "id": "3b68b5ac",
        "outputId": "3af25d36-c222-48d0-db9e-cfe65964c454"
      },
      "outputs": [
        {
          "name": "stdout",
          "output_type": "stream",
          "text": [
            "Total disbursed amount by loan term:\n",
            " Loan_Term_Months\n",
            "12    286673\n",
            "13    242050\n",
            "14    297215\n",
            "15    360093\n",
            "16    318059\n",
            "17    404185\n",
            "18    249784\n",
            "19    276951\n",
            "20    167224\n",
            "21    177933\n",
            "22    215274\n",
            "23    452358\n",
            "24    197558\n",
            "25    355498\n",
            "26    382571\n",
            "27    213899\n",
            "28    647417\n",
            "29    506390\n",
            "30    200620\n",
            "31    284771\n",
            "32    164847\n",
            "33    400538\n",
            "34    468943\n",
            "35    387924\n",
            "36    376243\n",
            "37    270737\n",
            "38    297415\n",
            "39    219452\n",
            "40    561400\n",
            "41    257987\n",
            "42    248949\n",
            "43    463057\n",
            "44    243532\n",
            "45    427102\n",
            "46    328138\n",
            "47    310360\n",
            "48    389268\n",
            "49    236174\n",
            "50    332000\n",
            "51    589153\n",
            "52    252997\n",
            "53    348036\n",
            "54    231989\n",
            "55    334305\n",
            "56    469092\n",
            "57    357567\n",
            "58    563913\n",
            "59    260075\n",
            "60    424222\n",
            "61    272080\n",
            "62    367190\n",
            "63    279391\n",
            "64    345754\n",
            "65    352753\n",
            "66    303765\n",
            "67    331840\n",
            "68    183330\n",
            "69    241827\n",
            "70    594779\n",
            "71    269917\n",
            "Name: Disbursed_Amount, dtype: int32\n"
          ]
        }
      ],
      "source": [
        "disbursed_amount_by_term = loan_data.groupby('Loan_Term_Months')['Disbursed_Amount'].sum()\n",
        "print(\"Total disbursed amount by loan term:\\n\", disbursed_amount_by_term)\n"
      ]
    },
    {
      "cell_type": "markdown",
      "id": "f526b723",
      "metadata": {
        "id": "f526b723"
      },
      "source": [
        "### Determine the average credit score for approved loans."
      ]
    },
    {
      "cell_type": "code",
      "execution_count": null,
      "id": "15ae3b32",
      "metadata": {
        "id": "15ae3b32",
        "outputId": "bf7fbd64-cea3-48c0-fd47-ad2fe80d5297"
      },
      "outputs": [
        {
          "name": "stdout",
          "output_type": "stream",
          "text": [
            "Average credit score for approved loans: 574.2328398384926\n"
          ]
        }
      ],
      "source": [
        "avg_credit_score_approved_loans = loan_data[loan_data['Loan_Approval_Status'] == 1]['Credit_Score'].mean()\n",
        "print(\"Average credit score for approved loans:\", avg_credit_score_approved_loans)\n"
      ]
    },
    {
      "cell_type": "markdown",
      "id": "85706993",
      "metadata": {
        "id": "85706993"
      },
      "source": [
        "### How many loan applications were submitted by each applicant?"
      ]
    },
    {
      "cell_type": "code",
      "execution_count": null,
      "id": "f16fdbcf",
      "metadata": {
        "id": "f16fdbcf",
        "outputId": "39a6142b-92c9-4e6f-96b2-d28a26501131"
      },
      "outputs": [
        {
          "name": "stdout",
          "output_type": "stream",
          "text": [
            "Number of loan applications per applicant:\n",
            " Applicant_0      1\n",
            "Applicant_671    1\n",
            "Applicant_658    1\n",
            "Applicant_659    1\n",
            "Applicant_660    1\n",
            "                ..\n",
            "Applicant_338    1\n",
            "Applicant_339    1\n",
            "Applicant_340    1\n",
            "Applicant_341    1\n",
            "Applicant_999    1\n",
            "Name: Applicant_Name, Length: 1000, dtype: int64\n"
          ]
        }
      ],
      "source": [
        "loan_applications_per_applicant = loan_data['Applicant_Name'].value_counts()\n",
        "print(\"Number of loan applications per applicant:\\n\", loan_applications_per_applicant)\n"
      ]
    },
    {
      "cell_type": "markdown",
      "id": "3665ea61",
      "metadata": {
        "id": "3665ea61"
      },
      "source": [
        "### Calculate the approval rate for each loan term."
      ]
    },
    {
      "cell_type": "code",
      "execution_count": null,
      "id": "ac47bbe4",
      "metadata": {
        "id": "ac47bbe4",
        "outputId": "b5598f6d-3914-4d8e-a592-348eac28d021"
      },
      "outputs": [
        {
          "name": "stdout",
          "output_type": "stream",
          "text": [
            "Approval rate by loan term:\n",
            " Loan_Term_Months\n",
            "12     76.923077\n",
            "13     71.428571\n",
            "14     58.823529\n",
            "15     86.666667\n",
            "16     68.750000\n",
            "17     85.714286\n",
            "18     66.666667\n",
            "19     68.750000\n",
            "20     68.750000\n",
            "21     50.000000\n",
            "22     57.142857\n",
            "23     87.500000\n",
            "24     53.333333\n",
            "25     68.750000\n",
            "26     77.777778\n",
            "27     90.000000\n",
            "28     86.956522\n",
            "29     77.777778\n",
            "30     83.333333\n",
            "31     92.857143\n",
            "32     50.000000\n",
            "33     92.857143\n",
            "34     84.210526\n",
            "35     82.352941\n",
            "36     60.869565\n",
            "37     60.000000\n",
            "38     73.333333\n",
            "39     58.333333\n",
            "40     70.000000\n",
            "41     58.823529\n",
            "42     90.909091\n",
            "43     84.210526\n",
            "44     64.705882\n",
            "45     60.869565\n",
            "46     76.470588\n",
            "47     75.000000\n",
            "48     85.000000\n",
            "49     60.000000\n",
            "50     81.250000\n",
            "51     91.666667\n",
            "52     81.818182\n",
            "53     71.428571\n",
            "54     64.705882\n",
            "55     68.750000\n",
            "56     84.210526\n",
            "57     76.470588\n",
            "58    100.000000\n",
            "59     90.000000\n",
            "60     78.947368\n",
            "61     84.615385\n",
            "62     68.181818\n",
            "63     73.333333\n",
            "64     70.588235\n",
            "65     76.470588\n",
            "66     64.285714\n",
            "67     87.500000\n",
            "68     60.000000\n",
            "69     66.666667\n",
            "70     75.000000\n",
            "71     80.000000\n",
            "Name: Loan_Approval_Status, dtype: float64\n"
          ]
        }
      ],
      "source": [
        "approval_rate_by_term = loan_data.groupby('Loan_Term_Months')['Loan_Approval_Status'].mean() * 100\n",
        "print(\"Approval rate by loan term:\\n\", approval_rate_by_term)\n"
      ]
    },
    {
      "cell_type": "markdown",
      "id": "81324bac",
      "metadata": {
        "id": "81324bac"
      },
      "source": [
        "### Identify the top 5 applicants with the highest loan amounts."
      ]
    },
    {
      "cell_type": "code",
      "execution_count": null,
      "id": "d69328d0",
      "metadata": {
        "id": "d69328d0",
        "outputId": "2f75fb3a-eeb7-47e8-9512-5c55a0e848a0"
      },
      "outputs": [
        {
          "name": "stdout",
          "output_type": "stream",
          "text": [
            "Top 5 applicants with the highest loan amounts:\n",
            "     Applicant_Name  Loan_Amount\n",
            "52    Applicant_52        49974\n",
            "546  Applicant_546        49912\n",
            "539  Applicant_539        49811\n",
            "3      Applicant_3        49732\n",
            "464  Applicant_464        49690\n"
          ]
        }
      ],
      "source": [
        "top_5_applicants_highest_loan_amounts = loan_data.nlargest(5, 'Loan_Amount')[['Applicant_Name', 'Loan_Amount']]\n",
        "print(\"Top 5 applicants with the highest loan amounts:\\n\", top_5_applicants_highest_loan_amounts)\n"
      ]
    },
    {
      "cell_type": "markdown",
      "id": "58b15cc9",
      "metadata": {
        "id": "58b15cc9"
      },
      "source": [
        "### Calculate the total disbursed amount for each employment type.\n"
      ]
    },
    {
      "cell_type": "code",
      "execution_count": null,
      "id": "5611542e",
      "metadata": {
        "id": "5611542e",
        "outputId": "e0b66a72-7fb8-426f-ad76-f8d48ced106b"
      },
      "outputs": [
        {
          "name": "stdout",
          "output_type": "stream",
          "text": [
            "Total disbursed amount by employment type:\n",
            " Employment_Type\n",
            "Salaried         10226225\n",
            "Self-employed     9768339\n",
            "Name: Disbursed_Amount, dtype: int32\n"
          ]
        }
      ],
      "source": [
        "disbursed_amount_by_employment = loan_data.groupby('Employment_Type')['Disbursed_Amount'].sum()\n",
        "print(\"Total disbursed amount by employment type:\\n\", disbursed_amount_by_employment)\n"
      ]
    },
    {
      "cell_type": "markdown",
      "id": "09b1e4ba",
      "metadata": {
        "id": "09b1e4ba"
      },
      "source": [
        "### Determine the loan approval rate for each credit score range (e.g., 300-400, 401-500, etc.).\n"
      ]
    },
    {
      "cell_type": "code",
      "execution_count": null,
      "id": "324f5401",
      "metadata": {
        "id": "324f5401",
        "outputId": "6cb7f347-42ac-4f4f-bb80-bc45e0a589e9"
      },
      "outputs": [
        {
          "name": "stdout",
          "output_type": "stream",
          "text": [
            "Loan approval rate by credit score range:\n",
            " Credit_Score_Range\n",
            "Poor    75.284091\n",
            "Fair    75.130890\n",
            "Good    71.804511\n",
            "Name: Loan_Approval_Status, dtype: float64\n"
          ]
        }
      ],
      "source": [
        "# Create bins for credit score ranges\n",
        "bins = [300, 500, 700, 850]\n",
        "labels = ['Poor', 'Fair', 'Good']\n",
        "loan_data['Credit_Score_Range'] = pd.cut(loan_data['Credit_Score'], bins=bins, labels=labels, right=False)\n",
        "\n",
        "approval_rate_by_credit_score_range = loan_data.groupby('Credit_Score_Range')['Loan_Approval_Status'].mean() * 100\n",
        "print(\"Loan approval rate by credit score range:\\n\", approval_rate_by_credit_score_range)\n"
      ]
    },
    {
      "cell_type": "markdown",
      "id": "e9efbe69",
      "metadata": {
        "id": "e9efbe69"
      },
      "source": [
        "### Calculate the average loan amount for approved loans in each employment type.\n"
      ]
    },
    {
      "cell_type": "code",
      "execution_count": null,
      "id": "1a15ee92",
      "metadata": {
        "id": "1a15ee92",
        "outputId": "4b6da697-1e52-43d6-88b4-1ddb867fbfec"
      },
      "outputs": [
        {
          "name": "stdout",
          "output_type": "stream",
          "text": [
            "Average loan amount for approved loans by employment type:\n",
            " Employment_Type\n",
            "Salaried         26770.222513\n",
            "Self-employed    27059.110803\n",
            "Name: Loan_Amount, dtype: float64\n"
          ]
        }
      ],
      "source": [
        "avg_loan_amount_by_employment_approved = loan_data[loan_data['Loan_Approval_Status'] == 1].groupby('Employment_Type')['Loan_Amount'].mean()\n",
        "print(\"Average loan amount for approved loans by employment type:\\n\", avg_loan_amount_by_employment_approved)\n"
      ]
    },
    {
      "cell_type": "markdown",
      "id": "ab26973a",
      "metadata": {
        "id": "ab26973a"
      },
      "source": [
        "### Identify the applicant with the most number of approved loans."
      ]
    },
    {
      "cell_type": "code",
      "execution_count": null,
      "id": "66643584",
      "metadata": {
        "id": "66643584",
        "outputId": "8eaac13f-5d8d-4f8c-8f22-27558234b134"
      },
      "outputs": [
        {
          "name": "stdout",
          "output_type": "stream",
          "text": [
            "Applicant with the most approved loans: Applicant_0\n"
          ]
        }
      ],
      "source": [
        "applicant_with_most_approved_loans = loan_data[loan_data['Loan_Approval_Status'] == 1]['Applicant_Name'].value_counts().idxmax()\n",
        "print(\"Applicant with the most approved loans:\", applicant_with_most_approved_loans)\n"
      ]
    },
    {
      "cell_type": "raw",
      "id": "439722b0",
      "metadata": {
        "id": "439722b0"
      },
      "source": [
        "Loan_to_Income_Ratio:\n",
        "The Loan to Income Ratio is a measure of an applicant's ability to repay the loan based on their income. It is calculated as the ratio of the loan amount requested to the applicant's monthly income."
      ]
    },
    {
      "cell_type": "code",
      "execution_count": null,
      "id": "0e1f6631",
      "metadata": {
        "id": "0e1f6631",
        "outputId": "5df306a5-1265-404a-a2b9-66e493f32d76"
      },
      "outputs": [
        {
          "data": {
            "text/html": [
              "<div>\n",
              "<style scoped>\n",
              "    .dataframe tbody tr th:only-of-type {\n",
              "        vertical-align: middle;\n",
              "    }\n",
              "\n",
              "    .dataframe tbody tr th {\n",
              "        vertical-align: top;\n",
              "    }\n",
              "\n",
              "    .dataframe thead th {\n",
              "        text-align: right;\n",
              "    }\n",
              "</style>\n",
              "<table border=\"1\" class=\"dataframe\">\n",
              "  <thead>\n",
              "    <tr style=\"text-align: right;\">\n",
              "      <th></th>\n",
              "      <th>Applicant_Name</th>\n",
              "      <th>Loan_Amount</th>\n",
              "      <th>Loan_Term_Months</th>\n",
              "      <th>Credit_Score</th>\n",
              "      <th>Employment_Type</th>\n",
              "      <th>Loan_Approval_Status</th>\n",
              "      <th>Disbursed_Amount</th>\n",
              "      <th>Credit_Score_Range</th>\n",
              "      <th>Monthly_Income</th>\n",
              "      <th>Loan_to_Income_Ratio</th>\n",
              "    </tr>\n",
              "  </thead>\n",
              "  <tbody>\n",
              "    <tr>\n",
              "      <th>0</th>\n",
              "      <td>Applicant_0</td>\n",
              "      <td>20795</td>\n",
              "      <td>48</td>\n",
              "      <td>800</td>\n",
              "      <td>Salaried</td>\n",
              "      <td>1</td>\n",
              "      <td>20795</td>\n",
              "      <td>Good</td>\n",
              "      <td>4163</td>\n",
              "      <td>4.995196</td>\n",
              "    </tr>\n",
              "    <tr>\n",
              "      <th>1</th>\n",
              "      <td>Applicant_1</td>\n",
              "      <td>5860</td>\n",
              "      <td>16</td>\n",
              "      <td>416</td>\n",
              "      <td>Salaried</td>\n",
              "      <td>1</td>\n",
              "      <td>5860</td>\n",
              "      <td>Poor</td>\n",
              "      <td>9797</td>\n",
              "      <td>0.598142</td>\n",
              "    </tr>\n",
              "    <tr>\n",
              "      <th>2</th>\n",
              "      <td>Applicant_2</td>\n",
              "      <td>43158</td>\n",
              "      <td>30</td>\n",
              "      <td>685</td>\n",
              "      <td>Salaried</td>\n",
              "      <td>1</td>\n",
              "      <td>43158</td>\n",
              "      <td>Fair</td>\n",
              "      <td>6355</td>\n",
              "      <td>6.791188</td>\n",
              "    </tr>\n",
              "    <tr>\n",
              "      <th>3</th>\n",
              "      <td>Applicant_3</td>\n",
              "      <td>49732</td>\n",
              "      <td>70</td>\n",
              "      <td>643</td>\n",
              "      <td>Salaried</td>\n",
              "      <td>0</td>\n",
              "      <td>0</td>\n",
              "      <td>Fair</td>\n",
              "      <td>3098</td>\n",
              "      <td>16.052937</td>\n",
              "    </tr>\n",
              "    <tr>\n",
              "      <th>4</th>\n",
              "      <td>Applicant_4</td>\n",
              "      <td>16284</td>\n",
              "      <td>25</td>\n",
              "      <td>694</td>\n",
              "      <td>Self-employed</td>\n",
              "      <td>1</td>\n",
              "      <td>16284</td>\n",
              "      <td>Fair</td>\n",
              "      <td>7599</td>\n",
              "      <td>2.142914</td>\n",
              "    </tr>\n",
              "  </tbody>\n",
              "</table>\n",
              "</div>"
            ],
            "text/plain": [
              "  Applicant_Name  Loan_Amount  Loan_Term_Months  Credit_Score Employment_Type  \\\n",
              "0    Applicant_0        20795                48           800        Salaried   \n",
              "1    Applicant_1         5860                16           416        Salaried   \n",
              "2    Applicant_2        43158                30           685        Salaried   \n",
              "3    Applicant_3        49732                70           643        Salaried   \n",
              "4    Applicant_4        16284                25           694   Self-employed   \n",
              "\n",
              "   Loan_Approval_Status  Disbursed_Amount Credit_Score_Range  Monthly_Income  \\\n",
              "0                     1             20795               Good            4163   \n",
              "1                     1              5860               Poor            9797   \n",
              "2                     1             43158               Fair            6355   \n",
              "3                     0                 0               Fair            3098   \n",
              "4                     1             16284               Fair            7599   \n",
              "\n",
              "   Loan_to_Income_Ratio  \n",
              "0              4.995196  \n",
              "1              0.598142  \n",
              "2              6.791188  \n",
              "3             16.052937  \n",
              "4              2.142914  "
            ]
          },
          "execution_count": 23,
          "metadata": {},
          "output_type": "execute_result"
        }
      ],
      "source": [
        "# Generate random monthly income for each applicant\n",
        "loan_data['Monthly_Income'] = np.random.randint(2000, 10000, num_records)\n",
        "\n",
        "# Calculate Loan to Income Ratio\n",
        "loan_data['Loan_to_Income_Ratio'] = loan_data['Loan_Amount'] / loan_data['Monthly_Income']\n",
        "\n",
        "loan_data.head()"
      ]
    },
    {
      "cell_type": "raw",
      "id": "fde5bdd3",
      "metadata": {
        "id": "fde5bdd3"
      },
      "source": [
        "Repayment_Period:\n",
        "The Repayment Period is an estimate of the time required to repay the loan in months. It is calculated as the loan term in months minus the number of months since the loan was disbursed."
      ]
    },
    {
      "cell_type": "code",
      "execution_count": null,
      "id": "efeef64c",
      "metadata": {
        "id": "efeef64c",
        "outputId": "2f5c5421-9410-4fc5-f029-232f97cb9248"
      },
      "outputs": [
        {
          "data": {
            "text/html": [
              "<div>\n",
              "<style scoped>\n",
              "    .dataframe tbody tr th:only-of-type {\n",
              "        vertical-align: middle;\n",
              "    }\n",
              "\n",
              "    .dataframe tbody tr th {\n",
              "        vertical-align: top;\n",
              "    }\n",
              "\n",
              "    .dataframe thead th {\n",
              "        text-align: right;\n",
              "    }\n",
              "</style>\n",
              "<table border=\"1\" class=\"dataframe\">\n",
              "  <thead>\n",
              "    <tr style=\"text-align: right;\">\n",
              "      <th></th>\n",
              "      <th>Applicant_Name</th>\n",
              "      <th>Loan_Amount</th>\n",
              "      <th>Loan_Term_Months</th>\n",
              "      <th>Credit_Score</th>\n",
              "      <th>Employment_Type</th>\n",
              "      <th>Loan_Approval_Status</th>\n",
              "      <th>Disbursed_Amount</th>\n",
              "      <th>Credit_Score_Range</th>\n",
              "      <th>Monthly_Income</th>\n",
              "      <th>Loan_to_Income_Ratio</th>\n",
              "      <th>Repayment_Period</th>\n",
              "    </tr>\n",
              "  </thead>\n",
              "  <tbody>\n",
              "    <tr>\n",
              "      <th>0</th>\n",
              "      <td>Applicant_0</td>\n",
              "      <td>20795</td>\n",
              "      <td>48</td>\n",
              "      <td>800</td>\n",
              "      <td>Salaried</td>\n",
              "      <td>1</td>\n",
              "      <td>20795</td>\n",
              "      <td>Good</td>\n",
              "      <td>4163</td>\n",
              "      <td>4.995196</td>\n",
              "      <td>42</td>\n",
              "    </tr>\n",
              "    <tr>\n",
              "      <th>1</th>\n",
              "      <td>Applicant_1</td>\n",
              "      <td>5860</td>\n",
              "      <td>16</td>\n",
              "      <td>416</td>\n",
              "      <td>Salaried</td>\n",
              "      <td>1</td>\n",
              "      <td>5860</td>\n",
              "      <td>Poor</td>\n",
              "      <td>9797</td>\n",
              "      <td>0.598142</td>\n",
              "      <td>10</td>\n",
              "    </tr>\n",
              "    <tr>\n",
              "      <th>2</th>\n",
              "      <td>Applicant_2</td>\n",
              "      <td>43158</td>\n",
              "      <td>30</td>\n",
              "      <td>685</td>\n",
              "      <td>Salaried</td>\n",
              "      <td>1</td>\n",
              "      <td>43158</td>\n",
              "      <td>Fair</td>\n",
              "      <td>6355</td>\n",
              "      <td>6.791188</td>\n",
              "      <td>24</td>\n",
              "    </tr>\n",
              "    <tr>\n",
              "      <th>3</th>\n",
              "      <td>Applicant_3</td>\n",
              "      <td>49732</td>\n",
              "      <td>70</td>\n",
              "      <td>643</td>\n",
              "      <td>Salaried</td>\n",
              "      <td>0</td>\n",
              "      <td>0</td>\n",
              "      <td>Fair</td>\n",
              "      <td>3098</td>\n",
              "      <td>16.052937</td>\n",
              "      <td>64</td>\n",
              "    </tr>\n",
              "    <tr>\n",
              "      <th>4</th>\n",
              "      <td>Applicant_4</td>\n",
              "      <td>16284</td>\n",
              "      <td>25</td>\n",
              "      <td>694</td>\n",
              "      <td>Self-employed</td>\n",
              "      <td>1</td>\n",
              "      <td>16284</td>\n",
              "      <td>Fair</td>\n",
              "      <td>7599</td>\n",
              "      <td>2.142914</td>\n",
              "      <td>19</td>\n",
              "    </tr>\n",
              "  </tbody>\n",
              "</table>\n",
              "</div>"
            ],
            "text/plain": [
              "  Applicant_Name  Loan_Amount  Loan_Term_Months  Credit_Score Employment_Type  \\\n",
              "0    Applicant_0        20795                48           800        Salaried   \n",
              "1    Applicant_1         5860                16           416        Salaried   \n",
              "2    Applicant_2        43158                30           685        Salaried   \n",
              "3    Applicant_3        49732                70           643        Salaried   \n",
              "4    Applicant_4        16284                25           694   Self-employed   \n",
              "\n",
              "   Loan_Approval_Status  Disbursed_Amount Credit_Score_Range  Monthly_Income  \\\n",
              "0                     1             20795               Good            4163   \n",
              "1                     1              5860               Poor            9797   \n",
              "2                     1             43158               Fair            6355   \n",
              "3                     0                 0               Fair            3098   \n",
              "4                     1             16284               Fair            7599   \n",
              "\n",
              "   Loan_to_Income_Ratio  Repayment_Period  \n",
              "0              4.995196                42  \n",
              "1              0.598142                10  \n",
              "2              6.791188                24  \n",
              "3             16.052937                64  \n",
              "4              2.142914                19  "
            ]
          },
          "execution_count": 25,
          "metadata": {},
          "output_type": "execute_result"
        }
      ],
      "source": [
        "# Assume the current month as 6 for demonstration purposes\n",
        "current_month = 6\n",
        "\n",
        "# Calculate Repayment Period\n",
        "loan_data['Repayment_Period'] = loan_data['Loan_Term_Months'] - (current_month % loan_data['Loan_Term_Months'])\n",
        "\n",
        "loan_data.head()"
      ]
    },
    {
      "cell_type": "markdown",
      "id": "f10206b8",
      "metadata": {
        "id": "f10206b8"
      },
      "source": [
        "### Calculate the average Loan to Income Ratio for approved loans."
      ]
    },
    {
      "cell_type": "code",
      "execution_count": null,
      "id": "b070530b",
      "metadata": {
        "id": "b070530b",
        "outputId": "8c5fde92-b636-4f08-9736-6667a99d3863"
      },
      "outputs": [
        {
          "name": "stdout",
          "output_type": "stream",
          "text": [
            "Average Loan to Income Ratio for approved loans: 5.452570720933551\n"
          ]
        }
      ],
      "source": [
        "avg_loan_to_income_ratio_approved = loan_data[loan_data['Loan_Approval_Status'] == 1]['Loan_to_Income_Ratio'].mean()\n",
        "print(\"Average Loan to Income Ratio for approved loans:\", avg_loan_to_income_ratio_approved)\n"
      ]
    },
    {
      "cell_type": "markdown",
      "id": "ba9efbb9",
      "metadata": {
        "id": "ba9efbb9"
      },
      "source": [
        "### Determine the loan approval rate for different Repayment Periods"
      ]
    },
    {
      "cell_type": "code",
      "execution_count": null,
      "id": "7627c8ff",
      "metadata": {
        "id": "7627c8ff",
        "outputId": "f083c7bf-2fe7-4cd0-fa6c-2456845e3441"
      },
      "outputs": [
        {
          "name": "stdout",
          "output_type": "stream",
          "text": [
            "Loan approval rate by Repayment Period:\n",
            " Repayment_Period\n",
            "6      76.923077\n",
            "7      71.428571\n",
            "8      58.823529\n",
            "9      86.666667\n",
            "10     68.750000\n",
            "11     85.714286\n",
            "12     66.666667\n",
            "13     68.750000\n",
            "14     68.750000\n",
            "15     50.000000\n",
            "16     57.142857\n",
            "17     87.500000\n",
            "18     53.333333\n",
            "19     68.750000\n",
            "20     77.777778\n",
            "21     90.000000\n",
            "22     86.956522\n",
            "23     77.777778\n",
            "24     83.333333\n",
            "25     92.857143\n",
            "26     50.000000\n",
            "27     92.857143\n",
            "28     84.210526\n",
            "29     82.352941\n",
            "30     60.869565\n",
            "31     60.000000\n",
            "32     73.333333\n",
            "33     58.333333\n",
            "34     70.000000\n",
            "35     58.823529\n",
            "36     90.909091\n",
            "37     84.210526\n",
            "38     64.705882\n",
            "39     60.869565\n",
            "40     76.470588\n",
            "41     75.000000\n",
            "42     85.000000\n",
            "43     60.000000\n",
            "44     81.250000\n",
            "45     91.666667\n",
            "46     81.818182\n",
            "47     71.428571\n",
            "48     64.705882\n",
            "49     68.750000\n",
            "50     84.210526\n",
            "51     76.470588\n",
            "52    100.000000\n",
            "53     90.000000\n",
            "54     78.947368\n",
            "55     84.615385\n",
            "56     68.181818\n",
            "57     73.333333\n",
            "58     70.588235\n",
            "59     76.470588\n",
            "60     64.285714\n",
            "61     87.500000\n",
            "62     60.000000\n",
            "63     66.666667\n",
            "64     75.000000\n",
            "65     80.000000\n",
            "Name: Loan_Approval_Status, dtype: float64\n"
          ]
        }
      ],
      "source": [
        "approval_rate_by_repayment_period = loan_data.groupby('Repayment_Period')['Loan_Approval_Status'].mean() * 100\n",
        "print(\"Loan approval rate by Repayment Period:\\n\", approval_rate_by_repayment_period)\n"
      ]
    },
    {
      "cell_type": "markdown",
      "id": "12cfac9c",
      "metadata": {
        "id": "12cfac9c"
      },
      "source": [
        "### Calculate the total disbursed amount for different Repayment Periods"
      ]
    },
    {
      "cell_type": "code",
      "execution_count": null,
      "id": "950a4147",
      "metadata": {
        "id": "950a4147",
        "outputId": "6ade6014-b1b9-4605-9cb8-a206583a7731"
      },
      "outputs": [
        {
          "name": "stdout",
          "output_type": "stream",
          "text": [
            "Total disbursed amount by Repayment Period:\n",
            " Repayment_Period\n",
            "6     286673\n",
            "7     242050\n",
            "8     297215\n",
            "9     360093\n",
            "10    318059\n",
            "11    404185\n",
            "12    249784\n",
            "13    276951\n",
            "14    167224\n",
            "15    177933\n",
            "16    215274\n",
            "17    452358\n",
            "18    197558\n",
            "19    355498\n",
            "20    382571\n",
            "21    213899\n",
            "22    647417\n",
            "23    506390\n",
            "24    200620\n",
            "25    284771\n",
            "26    164847\n",
            "27    400538\n",
            "28    468943\n",
            "29    387924\n",
            "30    376243\n",
            "31    270737\n",
            "32    297415\n",
            "33    219452\n",
            "34    561400\n",
            "35    257987\n",
            "36    248949\n",
            "37    463057\n",
            "38    243532\n",
            "39    427102\n",
            "40    328138\n",
            "41    310360\n",
            "42    389268\n",
            "43    236174\n",
            "44    332000\n",
            "45    589153\n",
            "46    252997\n",
            "47    348036\n",
            "48    231989\n",
            "49    334305\n",
            "50    469092\n",
            "51    357567\n",
            "52    563913\n",
            "53    260075\n",
            "54    424222\n",
            "55    272080\n",
            "56    367190\n",
            "57    279391\n",
            "58    345754\n",
            "59    352753\n",
            "60    303765\n",
            "61    331840\n",
            "62    183330\n",
            "63    241827\n",
            "64    594779\n",
            "65    269917\n",
            "Name: Disbursed_Amount, dtype: int32\n"
          ]
        }
      ],
      "source": [
        "disbursed_amount_by_repayment_period = loan_data.groupby('Repayment_Period')['Disbursed_Amount'].sum()\n",
        "print(\"Total disbursed amount by Repayment Period:\\n\", disbursed_amount_by_repayment_period)\n"
      ]
    },
    {
      "cell_type": "code",
      "execution_count": null,
      "id": "7692a6c0",
      "metadata": {
        "id": "7692a6c0",
        "outputId": "5237137b-ffbc-4706-a6f2-a16e63b5a209"
      },
      "outputs": [
        {
          "name": "stdout",
          "output_type": "stream",
          "text": [
            "Repayment_Period\n",
            "6     47557\n",
            "7     44099\n",
            "8     47929\n",
            "9     44790\n",
            "10    49238\n",
            "Name: Disbursed_Amount, dtype: int32\n"
          ]
        }
      ],
      "source": [
        "max_disbursed_Amt = loan_data.groupby('Repayment_Period')['Disbursed_Amount'].max()[:5]\n",
        "print(max_disbursed_Amt)"
      ]
    },
    {
      "cell_type": "code",
      "execution_count": null,
      "id": "e3707dd9",
      "metadata": {
        "id": "e3707dd9"
      },
      "outputs": [],
      "source": []
    },
    {
      "cell_type": "code",
      "execution_count": null,
      "id": "f14b0332",
      "metadata": {
        "id": "f14b0332"
      },
      "outputs": [],
      "source": []
    },
    {
      "cell_type": "code",
      "execution_count": null,
      "id": "02e4cc45",
      "metadata": {
        "id": "02e4cc45"
      },
      "outputs": [],
      "source": []
    }
  ],
  "metadata": {
    "colab": {
      "provenance": []
    },
    "kernelspec": {
      "display_name": "Python 3 (ipykernel)",
      "language": "python",
      "name": "python3"
    },
    "language_info": {
      "codemirror_mode": {
        "name": "ipython",
        "version": 3
      },
      "file_extension": ".py",
      "mimetype": "text/x-python",
      "name": "python",
      "nbconvert_exporter": "python",
      "pygments_lexer": "ipython3",
      "version": "3.9.13"
    }
  },
  "nbformat": 4,
  "nbformat_minor": 5
}
